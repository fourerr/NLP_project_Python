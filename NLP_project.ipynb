{
  "nbformat": 4,
  "nbformat_minor": 0,
  "metadata": {
    "colab": {
      "name": "NLP_project.ipynb",
      "provenance": [],
      "authorship_tag": "ABX9TyNMkuqBjTh4q9FejK2+S9fR",
      "include_colab_link": true
    },
    "kernelspec": {
      "name": "python3",
      "display_name": "Python 3"
    },
    "language_info": {
      "name": "python"
    }
  },
  "cells": [
    {
      "cell_type": "markdown",
      "metadata": {
        "id": "view-in-github",
        "colab_type": "text"
      },
      "source": [
        "<a href=\"https://colab.research.google.com/github/fourerr/NLP_project_Python/blob/random-forest-model--76%25/NLP_project.ipynb\" target=\"_parent\"><img src=\"https://colab.research.google.com/assets/colab-badge.svg\" alt=\"Open In Colab\"/></a>"
      ]
    },
    {
      "cell_type": "code",
      "execution_count": null,
      "metadata": {
        "id": "OItmhU-we7KL"
      },
      "outputs": [],
      "source": [
        "\n",
        "import csv\n",
        "import pandas as pd\n",
        "import nltk \n",
        "import re\n",
        "import math\n",
        "nltk.download(\"stopwords\")\n",
        "from nltk.corpus import stopwords\n",
        "from nltk.tokenize import sent_tokenize, word_tokenize\n",
        "from nltk.stem import LancasterStemmer\n",
        "from nltk.stem import PorterStemmer\n",
        "from nltk.tokenize import RegexpTokenizer\n",
        "from sklearn.feature_extraction.text import TfidfVectorizer\n",
        "from sklearn.model_selection import train_test_split\n",
        "from sklearn.tree import DecisionTreeClassifier\n",
        "from sklearn.ensemble import RandomForestClassifier\n",
        "nltk.download('punkt')\n",
        "nltk.download('wordnet')"
      ]
    },
    {
      "cell_type": "markdown",
      "source": [
        "reading the file"
      ],
      "metadata": {
        "id": "xISxVSFE2DgK"
      }
    },
    {
      "cell_type": "code",
      "source": [
        "tweets=pd.read_csv('train.csv')\n",
        "tweets.head()"
      ],
      "metadata": {
        "id": "kcM56D7f2Cqx"
      },
      "execution_count": null,
      "outputs": []
    },
    {
      "cell_type": "markdown",
      "source": [
        "tokenization"
      ],
      "metadata": {
        "id": "ManXAwTD2O-u"
      }
    },
    {
      "cell_type": "code",
      "source": [
        "\n",
        "list_tweets=list(tweets['text'])\n",
        "print(len(list_tweets))\n",
        "list_of_word_tweets=[]\n",
        "for twe in range(len(list_tweets)):\n",
        "  list_of_word_tweets.append(word_tokenize(list_tweets[twe]))\n",
        "\n",
        "print(list_of_word_tweets)\n",
        "\n",
        "N=len(list_of_word_tweets)"
      ],
      "metadata": {
        "id": "N77R_QjP1-jR"
      },
      "execution_count": null,
      "outputs": []
    },
    {
      "cell_type": "markdown",
      "source": [
        "remove stop words"
      ],
      "metadata": {
        "id": "rErimFZ61q3q"
      }
    },
    {
      "cell_type": "code",
      "source": [
        "\n",
        "stop_words = set(stopwords.words(\"english\"))\n",
        "filtered_list=[]\n",
        "for words in list_of_word_tweets:\n",
        "    for word in words:\n",
        "      if word.casefold() in stop_words:\n",
        "        words.remove(word)\n",
        "print(list_of_word_tweets)\n",
        "print(list_of_word_tweets[0])"
      ],
      "metadata": {
        "id": "etnfNiH61pWH"
      },
      "execution_count": null,
      "outputs": []
    },
    {
      "cell_type": "markdown",
      "source": [
        "stemming"
      ],
      "metadata": {
        "id": "D-AYevkE1n67"
      }
    },
    {
      "cell_type": "code",
      "source": [
        "list_stem_words=[]\n",
        "lancaster=LancasterStemmer()\n",
        "porter = PorterStemmer()\n",
        "print(list_of_word_tweets[0])\n",
        "for sentence in list_of_word_tweets:\n",
        "   temp=[porter.stem(word) for word in sentence ]\n",
        "   list_stem_words.append(temp) \n",
        "\n",
        "print(list_stem_words)"
      ],
      "metadata": {
        "id": "Bs8NSODX1mcH"
      },
      "execution_count": null,
      "outputs": []
    },
    {
      "cell_type": "markdown",
      "source": [
        "remove non alpha beta"
      ],
      "metadata": {
        "id": "yB_GzDA41jGU"
      }
    },
    {
      "cell_type": "code",
      "source": [
        "def remove_not_alphabeta(string,sentence):\n",
        "  c=re.findall(r'[a-zA-Z]',string)\n",
        "  if c =='':\n",
        "    sentence.remove(c)\n",
        "  c_string=''.join(c)\n",
        "  return(c_string)\n",
        "\n",
        "list_final_tweets=[]\n",
        "for sentence in list_stem_words:\n",
        "   temp=[remove_not_alphabeta(word,sentence) for word in sentence]\n",
        "   temp=list(filter(None,temp))\n",
        "   list_final_tweets.append(temp) \n",
        "print(list_final_tweets)\n"
      ],
      "metadata": {
        "id": "fo0PA-r01iF5"
      },
      "execution_count": null,
      "outputs": []
    },
    {
      "cell_type": "markdown",
      "source": [
        "\n",
        "making DFM Matrix"
      ],
      "metadata": {
        "id": "KdX7ngWb1Z78"
      }
    },
    {
      "cell_type": "code",
      "source": [
        "vectorizer = TfidfVectorizer(max_features=500,stop_words=\"english\" ,max_df=0.6)\n",
        "list_final_word_one_list=[]\n",
        "for sentence in list_final_tweets:\n",
        "  list_final_word_one_list.append(\" \".join(sentence))\n",
        "print(list_final_word_one_list)\n",
        "\n",
        "vectors = vectorizer.fit_transform(list_final_word_one_list)\n",
        "\n",
        "vectors=vectors.toarray()\n"
      ],
      "metadata": {
        "id": "bABCHI7k1Y-W"
      },
      "execution_count": null,
      "outputs": []
    },
    {
      "cell_type": "markdown",
      "source": [
        "dfm matrix to normal data frame"
      ],
      "metadata": {
        "id": "dIS74WUP2pPT"
      }
    },
    {
      "cell_type": "code",
      "source": [
        "df_vectors=pd.DataFrame(vectors,columns=vectorizer.get_feature_names_out())\n",
        "tfidf_tokens = vectorizer.get_feature_names_out()"
      ],
      "metadata": {
        "colab": {
          "base_uri": "https://localhost:8080/"
        },
        "id": "AZhhEJsv2oQM",
        "outputId": "f65565ca-29ea-49b8-ab55-fa4243693a55"
      },
      "execution_count": 114,
      "outputs": [
        {
          "output_type": "stream",
          "name": "stdout",
          "text": [
            "<class 'numpy.ndarray'>\n",
            "<class 'pandas.core.frame.DataFrame'>\n"
          ]
        }
      ]
    },
    {
      "cell_type": "markdown",
      "source": [
        "adding target feature"
      ],
      "metadata": {
        "id": "b5Iby4dc3DQA"
      }
    },
    {
      "cell_type": "code",
      "source": [
        "list_targets=list(tweets['target'])\n",
        "df_vectors['target']=list_targets\n",
        "\n",
        "\n",
        "\n",
        "\n",
        "\n"
      ],
      "metadata": {
        "id": "vbPRcg1GhwrC"
      },
      "execution_count": 115,
      "outputs": []
    },
    {
      "cell_type": "markdown",
      "source": [
        "extract x train "
      ],
      "metadata": {
        "id": "Gj2_DVrb24PY"
      }
    },
    {
      "cell_type": "code",
      "source": [
        "X=df_vectors.iloc[:,0:500]\n",
        "print(X.columns)\n",
        "feature_names=X.columns"
      ],
      "metadata": {
        "colab": {
          "base_uri": "https://localhost:8080/"
        },
        "id": "b6eVHQsOiMMk",
        "outputId": "bc5191a2-8f55-41da-e61f-c6fed8b29861"
      },
      "execution_count": 116,
      "outputs": [
        {
          "output_type": "stream",
          "name": "stdout",
          "text": [
            "Index(['abc', 'ablaz', 'accid', 'actual', 'affect', 'air', 'airplan',\n",
            "       'airport', 'alreadi', 'alway',\n",
            "       ...\n",
            "       'work', 'world', 'wound', 'wreck', 'wreckag', 'ye', 'year', 'youtub',\n",
            "       'yr', 'zone'],\n",
            "      dtype='object', length=500)\n"
          ]
        }
      ]
    },
    {
      "cell_type": "markdown",
      "source": [
        "extract y train"
      ],
      "metadata": {
        "id": "NcnLRklT4kMq"
      }
    },
    {
      "cell_type": "code",
      "source": [
        "\n",
        "y=df_vectors.iloc[:,-1]\n",
        "target=list(y.unique())\n",
        "target=list(map(lambda x: str(x) ,target))\n",
        "target"
      ],
      "metadata": {
        "colab": {
          "base_uri": "https://localhost:8080/"
        },
        "id": "APrdIEtfh1mW",
        "outputId": "f8fc4492-3369-4801-cb00-ff6e17bb7da0"
      },
      "execution_count": 117,
      "outputs": [
        {
          "output_type": "execute_result",
          "data": {
            "text/plain": [
              "['1', '0']"
            ]
          },
          "metadata": {},
          "execution_count": 117
        }
      ]
    },
    {
      "cell_type": "markdown",
      "source": [
        "simple decision tree model "
      ],
      "metadata": {
        "id": "xIXMu1R24xrm"
      }
    },
    {
      "cell_type": "code",
      "source": [
        "X_train, X_test, y_train, y_test = train_test_split(X, y, test_size = 0.3,random_state=42)\n",
        "\n",
        "clf_1_decisionTree = DecisionTreeClassifier(criterion=\"gini\", random_state=42,max_depth=5, min_samples_leaf=20)   \n",
        "clf_1_decisionTree.fit(X_train,y_train)\n",
        "\n",
        "\n",
        "y_predict_decisionTree = clf_1_decisionTree.predict(X_test)\n",
        "from sklearn.metrics import accuracy_score,classification_report,confusion_matrix\n",
        "print('accracy of one decision tree is',accuracy_score(y_test,y_predict_decisionTree))\n"
      ],
      "metadata": {
        "colab": {
          "base_uri": "https://localhost:8080/"
        },
        "id": "02uUXN5Ih2uU",
        "outputId": "7785a7dc-fb66-4b20-e76e-b547424810ab"
      },
      "execution_count": 129,
      "outputs": [
        {
          "output_type": "stream",
          "name": "stdout",
          "text": [
            "accracy of one decision tree is 0.680385288966725\n"
          ]
        }
      ]
    },
    {
      "cell_type": "markdown",
      "source": [
        "random forest model -better than decision tree model "
      ],
      "metadata": {
        "id": "At2wNZfy46Ig"
      }
    },
    {
      "cell_type": "code",
      "source": [
        "\n",
        "clf_randomForest = RandomForestClassifier(n_estimators=100)\n",
        "clf_randomForest.fit(X_train,y_train)\n",
        "y_predict_randomForest=clf_randomForest.predict(X_test)\n",
        "print('Accuracy of random forest: ',accuracy_score(y_test, y_predict_randomForest))"
      ],
      "metadata": {
        "colab": {
          "base_uri": "https://localhost:8080/"
        },
        "id": "kI8TVKZii4AB",
        "outputId": "49f25db2-1444-43f2-8435-ce80c40cca28"
      },
      "execution_count": 133,
      "outputs": [
        {
          "output_type": "stream",
          "name": "stdout",
          "text": [
            "Accuracy of random forest:  0.7705779334500875\n"
          ]
        }
      ]
    },
    {
      "cell_type": "markdown",
      "source": [
        "export tree of decision tree "
      ],
      "metadata": {
        "id": "dypLFsyn5BR5"
      }
    },
    {
      "cell_type": "code",
      "source": [
        "from sklearn import tree\n",
        "import graphviz\n",
        "import pydot\n",
        "dot_data1 = tree.export_graphviz(clf_1_decisionTree,\n",
        "                                out_file=None, \n",
        "                      feature_names=feature_names,  \n",
        "                      class_names=target,  \n",
        "                      filled=True, rounded=True,  \n",
        "                      special_characters=True)  \n",
        "graph1 = graphviz.Source(dot_data1,format='pdf')  \n",
        "\n",
        "\n",
        "graph1.render('decision_tree')\n"
      ],
      "metadata": {
        "colab": {
          "base_uri": "https://localhost:8080/",
          "height": 35
        },
        "id": "S2fqksYegYoV",
        "outputId": "71098a76-e9d0-45be-a0d1-59a69c4e8ded"
      },
      "execution_count": 79,
      "outputs": [
        {
          "output_type": "execute_result",
          "data": {
            "text/plain": [
              "'decision_tree.pdf'"
            ],
            "application/vnd.google.colaboratory.intrinsic+json": {
              "type": "string"
            }
          },
          "metadata": {},
          "execution_count": 79
        }
      ]
    },
    {
      "cell_type": "markdown",
      "source": [
        "confusion matrix for decision tree model "
      ],
      "metadata": {
        "id": "gqBGeVu26uCh"
      }
    },
    {
      "cell_type": "code",
      "source": [
        "# importing the required modules\n",
        "import matplotlib.pyplot as plt\n",
        "from sklearn.metrics import confusion_matrix, ConfusionMatrixDisplay\n",
        "\n",
        "# Plot the confusion matrix in graph\n",
        "cm_decisionTree = confusion_matrix(y_test,y_predict_decisionTree, labels=clf_1_decisionTree.classes_)\n",
        "\n",
        "# ploting with labels\n",
        "disp_cm = ConfusionMatrixDisplay(confusion_matrix=cm_decisionTree, display_labels=clf_1_decisionTree.classes_)\n",
        "disp_cm.plot()\n",
        "\n",
        "# showing the matrix\n"
      ],
      "metadata": {
        "colab": {
          "base_uri": "https://localhost:8080/",
          "height": 297
        },
        "id": "w_sRRnhc5Npj",
        "outputId": "e9975944-dc87-448b-bfd4-e848b6f16c9a"
      },
      "execution_count": 131,
      "outputs": [
        {
          "output_type": "execute_result",
          "data": {
            "text/plain": [
              "<sklearn.metrics._plot.confusion_matrix.ConfusionMatrixDisplay at 0x7f6eca831b50>"
            ]
          },
          "metadata": {},
          "execution_count": 131
        },
        {
          "output_type": "display_data",
          "data": {
            "text/plain": [
              "<Figure size 432x288 with 2 Axes>"
            ],
            "image/png": "[encoded data removed]"
          },
          "metadata": {
            "needs_background": "light"
          }
        }
      ]
    },
    {
      "cell_type": "markdown",
      "source": [
        "confusion matrix for random forest model "
      ],
      "metadata": {
        "id": "Wm5WctzJ5Hpm"
      }
    },
    {
      "cell_type": "code",
      "source": [
        "# importing the required modules\n",
        "import matplotlib.pyplot as plt\n",
        "from sklearn.metrics import confusion_matrix, ConfusionMatrixDisplay\n",
        "\n",
        "# Plot the confusion matrix in graph\n",
        "cm = confusion_matrix(y_test,y_predict_randomForest, labels=clf_randomForest.classes_)\n",
        "\n",
        "# ploting with labels\n",
        "disp = ConfusionMatrixDisplay(confusion_matrix=cm, display_labels=clf_randomForest.classes_)\n",
        "disp.plot()\n",
        "\n",
        "# showing the matrix\n"
      ],
      "metadata": {
        "colab": {
          "base_uri": "https://localhost:8080/",
          "height": 297
        },
        "id": "5EDEc4Eg0MSi",
        "outputId": "592e07cf-c1cb-4416-c808-e007ab9f19bf"
      },
      "execution_count": 134,
      "outputs": [
        {
          "output_type": "execute_result",
          "data": {
            "text/plain": [
              "<sklearn.metrics._plot.confusion_matrix.ConfusionMatrixDisplay at 0x7f6ec7c8bf50>"
            ]
          },
          "metadata": {},
          "execution_count": 134
        },
        {
          "output_type": "display_data",
          "data": {
            "text/plain": [
              "<Figure size 432x288 with 2 Axes>"
            ],
            "image/png": "[encoded data removed]"
          },
          "metadata": {
            "needs_background": "light"
          }
        }
      ]
    }
  ]
}